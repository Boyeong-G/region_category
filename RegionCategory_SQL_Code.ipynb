{
  "nbformat": 4,
  "nbformat_minor": 0,
  "metadata": {
    "colab": {
      "provenance": [],
      "authorship_tag": "ABX9TyOGrDXpiXDlKnWTjFSeQCmD"
    },
    "kernelspec": {
      "name": "python3",
      "display_name": "Python 3"
    },
    "language_info": {
      "name": "python"
    }
  },
  "cells": [
    {
      "cell_type": "markdown",
      "source": [
        "데이터: https://www.code.go.kr/stdcode/regCodeL.do"
      ],
      "metadata": {
        "id": "L8n4A_LIo9f3"
      }
    },
    {
      "cell_type": "code",
      "source": [
        "import pandas as pd\n",
        "import os\n",
        "# from os import write\n",
        "import locale\n",
        "import re"
      ],
      "metadata": {
        "id": "YCfyMXcZCOqZ"
      },
      "execution_count": 126,
      "outputs": []
    },
    {
      "cell_type": "code",
      "execution_count": 127,
      "metadata": {
        "id": "vb8Il-_3BiVj"
      },
      "outputs": [],
      "source": [
        "# 경로명\n",
        "path_name = '법정동코드_조회자료/'"
      ]
    },
    {
      "cell_type": "code",
      "source": [
        "# 파일 압축 해제\n",
        "zip_name = '법정동코드_조회자료.zip'\n",
        "os.system(\"unzip \" + zip_name + \" -d \" + path_name)"
      ],
      "metadata": {
        "colab": {
          "base_uri": "https://localhost:8080/"
        },
        "id": "QWAnf3c-d6zC",
        "outputId": "65461af9-47f3-4fe9-bb16-10a18cbb09cb"
      },
      "execution_count": 128,
      "outputs": [
        {
          "output_type": "execute_result",
          "data": {
            "text/plain": [
              "256"
            ]
          },
          "metadata": {},
          "execution_count": 128
        }
      ]
    },
    {
      "cell_type": "code",
      "source": [
        "sorted_filenames = sorted(os.listdir(path_name), key=lambda x: x.split('_')[2].split('.')[0])\n",
        "print(sorted_filenames)"
      ],
      "metadata": {
        "colab": {
          "base_uri": "https://localhost:8080/"
        },
        "id": "_t2awfObkAPr",
        "outputId": "acd261b8-6515-4ec7-c6ab-8590f56416e3"
      },
      "execution_count": 129,
      "outputs": [
        {
          "output_type": "stream",
          "name": "stdout",
          "text": [
            "['법정동코드_조회자료_강원.xls', '법정동코드_조회자료_경기.xls', '법정동코드_조회자료_경남.xls', '법정동코드_조회자료_경북.xls', '법정동코드_조회자료_광주.xls', '법정동코드_조회자료_대구.xls', '법정동코드_조회자료_대전.xls', '법정동코드_조회자료_부산.xls', '법정동코드_조회자료_서울.xls', '법정동코드_조회자료_세종.xls', '법정동코드_조회자료_울산.xls', '법정동코드_조회자료_인천.xls', '법정동코드_조회자료_전남.xls', '법정동코드_조회자료_전북.xls', '법정동코드_조회자료_제주.xls', '법정동코드_조회자료_충남.xls', '법정동코드_조회자료_충북.xls']\n"
          ]
        }
      ]
    },
    {
      "cell_type": "code",
      "source": [
        "city_id = 0\n",
        "district_id = 0\n",
        "town_id = 0"
      ],
      "metadata": {
        "id": "BQfFdnZqDknG"
      },
      "execution_count": 130,
      "outputs": []
    },
    {
      "cell_type": "code",
      "source": [
        "town_pattern = r'.*(읍|면|동|로)([1-9]가)?$'"
      ],
      "metadata": {
        "id": "0bNdfuc5_4Xv"
      },
      "execution_count": 131,
      "outputs": []
    },
    {
      "cell_type": "code",
      "source": [
        "f1 = open('DBEM_City_SQL.txt', 'w')\n",
        "f2 = open('DBEM_District_SQL.txt', 'w')\n",
        "f3 = open('DBEM_Town_SQL.txt', 'w')"
      ],
      "metadata": {
        "id": "EEFIJl7nDQJW"
      },
      "execution_count": 132,
      "outputs": []
    },
    {
      "cell_type": "code",
      "source": [
        "# Daraframe형식으로 엑셀 파일 읽기\n",
        "for file_name in sorted_filenames:\n",
        "  df = pd.read_excel(path_name+file_name)\n",
        "\n",
        "  # print(df.head())\n",
        "\n",
        "  for code, region in zip(df['법정동코드'], df['법정동명']):\n",
        "    if str(code)[2:] == \"00000000\":\n",
        "      city_id += 1\n",
        "\n",
        "      s = f'INSERT INTO city VALUES ({city_id}, \\'{region}\\', \\'{code}\\');\\n'\n",
        "      f1.write(s)\n",
        "\n",
        "    elif region == \"세종특별자치시\":\n",
        "      city_id += 1\n",
        "      district_id += 1\n",
        "\n",
        "      s = f'INSERT INTO city VALUES ({city_id}, \\'{region}\\', \\'{code}\\');\\n'\n",
        "      f1.write(s)\n",
        "\n",
        "      s = f'INSERT INTO district VALUES ({district_id}, {city_id}, \\'{region}\\', \\'{code}\\');\\n'\n",
        "      f2.write(s)\n",
        "      if (district_id % 5 == 0):\n",
        "          f2.write('\\n')\n",
        "\n",
        "    elif region.split(' ')[0] == \"세종특별자치시\" and str(code)[4:] != \"000000\":\n",
        "      if len(region.split(' ')) == 2:\n",
        "        town_id += 1\n",
        "        town = region.split(' ')[1]\n",
        "\n",
        "        s = f'INSERT INTO town VALUES ({town_id}, {district_id}, \\'{town}\\', \\'{code}\\');\\n'\n",
        "        f3.write(s)\n",
        "        if (town_id % 5 == 0):\n",
        "            f3.write('\\n')\n",
        "\n",
        "    elif str(code)[5:] == \"00000\":\n",
        "      district_id += 1\n",
        "      district = region.split(' ', maxsplit=1)[1].rstrip()\n",
        "\n",
        "      s = f'INSERT INTO district VALUES ({district_id}, {city_id}, \\'{district}\\', \\'{code}\\');\\n'\n",
        "      f2.write(s)\n",
        "      if (district_id % 5 == 0):\n",
        "          f2.write('\\n')\n",
        "\n",
        "    elif not region.split(' ')[-1].endswith('리'):\n",
        "      town_id += 1\n",
        "      towns = region.split(' ')\n",
        "      town = next((t for t in towns if re.match(town_pattern, t)), None)\n",
        "\n",
        "      s = f'INSERT INTO town VALUES ({town_id}, {district_id}, \\'{town}\\', \\'{code}\\');\\n'\n",
        "      f3.write(s)\n",
        "      if (town_id % 5 == 0):\n",
        "          f3.write('\\n')"
      ],
      "metadata": {
        "id": "3_f33GwHdW-r"
      },
      "execution_count": 133,
      "outputs": []
    },
    {
      "cell_type": "code",
      "source": [
        "f1.close()\n",
        "f2.close()\n",
        "f3.close()"
      ],
      "metadata": {
        "id": "y3v1KH96DVU_"
      },
      "execution_count": 134,
      "outputs": []
    },
    {
      "cell_type": "code",
      "source": [
        "# 저장된 .txt 파일에서 한 줄 출력해 보기\n",
        "data = open('DBEM_Town_SQL.txt', 'r', encoding=\"UTF8\")\n",
        "contents = data.readline()\n",
        "print(contents)\n",
        "data.close()"
      ],
      "metadata": {
        "id": "zM2Iz96EpbF7",
        "colab": {
          "base_uri": "https://localhost:8080/"
        },
        "outputId": "7789e805-bbab-49fe-f548-63d55dd7cf33"
      },
      "execution_count": 135,
      "outputs": [
        {
          "output_type": "stream",
          "name": "stdout",
          "text": [
            "INSERT INTO town VALUES (1, 1, '봉의동', '5111010100');\n",
            "\n"
          ]
        }
      ]
    },
    {
      "cell_type": "code",
      "source": [
        "print(city_id + district_id + town_id)"
      ],
      "metadata": {
        "colab": {
          "base_uri": "https://localhost:8080/"
        },
        "id": "jYoSeMBZltdB",
        "outputId": "d99d5820-aa83-49e3-ad63-3006009c9496"
      },
      "execution_count": 136,
      "outputs": [
        {
          "output_type": "stream",
          "name": "stdout",
          "text": [
            "5341\n"
          ]
        }
      ]
    }
  ]
}